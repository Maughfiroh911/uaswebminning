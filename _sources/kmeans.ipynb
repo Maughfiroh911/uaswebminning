{
 "cells": [
  {
   "cell_type": "markdown",
   "id": "cf632672",
   "metadata": {},
   "source": [
    "## K Means "
   ]
  },
  {
   "cell_type": "markdown",
   "id": "bf9455bc",
   "metadata": {},
   "source": [
    "K-Means merupakan salah satu metode clusterring atau pengelompokan yang bertujuan mengelompokkan suatu dokumen kedalam suatu kelompok.\n",
    "Tahapan kmeans clusterring:\n",
    "1. Menentukan k (nilainya bebas) sebagai jumlah cluster yang ingin dibentuk.\n",
    "2. Membangkitkan nilai random untuk pusat cluster awal (centroid) sebanyak k.\n",
    "3. Menghitung jarak setiap data input terhadap masing–masing centroid menggunakan rumus jarak Euclidean (Euclidean Distance) hingga ditemukan jarak yang paling dekat dari setiap data dengan centroid. Berikut adalah persamaan Euclidian Distance:\n",
    "$$\n",
    "d(x i, \\mu j)=\\sqrt{\\sum(x i-\\mu j)^{2}}\n",
    "$$\n",
    "4. Mengklasifikasikan setiap data berdasarkan kedekatannya dengan centroid (jarak terkecil).\n",
    "5. Memperbaharui nilai Nilai centroid baru di peroleh dari rata-rata cluster yang bersangkutan dengan menggunakan rumus:\n",
    "\n",
    "$\\mu j(t+1)=\\frac{1}{N s j} \\sum_{j \\in s j} x j$\n",
    "\n",
    "$\\mu j(t+l):$ centroid baru pada iterasi ke-(t+1), Nsj : banyak data pada cluster Sj\n",
    "6. Melakukan perulangan dari langkah 3 hingga 5, sampai anggota tiap cluster tidak ada yang berubah."
   ]
  },
  {
   "cell_type": "code",
   "execution_count": 32,
   "id": "01a73f9c",
   "metadata": {},
   "outputs": [
    {
     "name": "stdout",
     "output_type": "stream",
     "text": [
      "Top terms per cluster:\n",
      "Cluster 0:\n",
      " perusahaan\n",
      " saham\n",
      " split\n",
      " stock\n",
      " tahun\n",
      " yang\n",
      " sesudah\n",
      " sebelum\n",
      " tbk\n",
      " dan\n",
      "Cluster 1:\n",
      " yang\n",
      " variabel\n",
      " dan\n",
      " terhadap\n",
      " produk\n",
      " penelitian\n",
      " keputusan\n",
      " pembelian\n",
      " secara\n",
      " ini\n",
      "\n",
      "\n",
      "Prediction\n",
      "[1]\n",
      "[1]\n"
     ]
    },
    {
     "name": "stderr",
     "output_type": "stream",
     "text": [
      "c:\\users\\hp\\appdata\\local\\programs\\python\\python39\\lib\\site-packages\\sklearn\\utils\\deprecation.py:87: FutureWarning: Function get_feature_names is deprecated; get_feature_names is deprecated in 1.0 and will be removed in 1.2. Please use get_feature_names_out instead.\n",
      "  warnings.warn(msg, category=FutureWarning)\n"
     ]
    }
   ],
   "source": [
    "from sklearn.feature_extraction.text import TfidfVectorizer\n",
    "from sklearn.cluster import KMeans\n",
    "from sklearn.metrics import adjusted_rand_score\n",
    "\n",
    "vectorizer = TfidfVectorizer(stop_words='english')\n",
    "X = vectorizer.fit_transform(df['abstrak_baru'])\n",
    "\n",
    "true_k = 2\n",
    "model = KMeans(n_clusters=true_k, init='k-means++', max_iter=100, n_init=1)\n",
    "model.fit(X)\n",
    "\n",
    "print(\"Top terms per cluster:\")\n",
    "order_centroids = model.cluster_centers_.argsort()[:, ::-1]\n",
    "terms = vectorizer.get_feature_names()\n",
    "for i in range(true_k):\n",
    "    print(\"Cluster %d:\" % i),\n",
    "    for ind in order_centroids[i, :10]:\n",
    "        print(' %s' % terms[ind]),\n",
    "    print\n",
    "\n",
    "print(\"\\n\")\n",
    "print(\"Prediction\")\n",
    "\n",
    "Y = vectorizer.transform([\"chrome browser to open.\"])\n",
    "prediction = model.predict(Y)\n",
    "print(prediction)\n",
    "\n",
    "Y = vectorizer.transform([\"My cat is hungry.\"])\n",
    "prediction = model.predict(Y)\n",
    "print(prediction)"
   ]
  },
  {
   "cell_type": "markdown",
   "id": "28668c57",
   "metadata": {},
   "source": [
    "### Daftar Pustaka\n",
    "- Nawassyarif, Julkarnain M, K. R. A. (2020). 338108-sistem-informasi-pengolahan-data-ternak-30b9d1b3 ( Pengertian Sistem infomasi. Jurnal JINTEKS, 2(1), 32–39.\n",
    "- Hanifah, R., & Nurhasanah, I. S. (2018). Implementasi Web Crawling Untuk Mengumpulkan Web Crawling Implementation for Collecting. Jurnal Teknologi Informasi Dan Ilmu Komputer (JTIIK), 5(5), 531–536. https://doi.org/10.25126/jtiik20185842\n",
    "- https://docs.scrapy.org/en/latest/intro/tutorial.html\n",
    "- Setyohadi, D. B., Kristiawan, F. A., & Ernawati, E. (2017). Perbaikan Performansi Klasifikasi Dengan Preprocessing Iterative Partitioning Filter Algorithm. Telematika, 14(01), 12–20. https://doi.org/10.31315/telematika.v14i01.1960\n",
    "- Merinda Lestandy, Abdurrahim Abdurrahim, & Lailis Syafa’ah. (2021). Analisis Sentimen Tweet Vaksin COVID-19 Menggunakan Recurrent Neural Network dan Naïve Bayes. Jurnal RESTI (Rekayasa Sistem Dan Teknologi Informasi), 5(4), 802–808. https://doi.org/10.29207/resti.v5i4.3308\n",
    "- Prihatini, P. M. (2016). Implementasi Ekstraksi Fitur Pada Pengolahan Dokumen Berbahasa Indonesia. Jurnal Matrix, 6(3), 174–178.\n",
    "- https://socs.binus.ac.id/2015/08/03/penggunaan-latent-semantic-analysis-lsa-dalam-pemrosesan-teks/\n",
    "- https://www.kaggle.com/code/rajmehra03/topic-modelling-using-lda-and-lsa-in-sklearn/notebook"
   ]
  }
 ],
 "metadata": {
  "kernelspec": {
   "display_name": "Python 3 (ipykernel)",
   "language": "python",
   "name": "python3"
  },
  "language_info": {
   "codemirror_mode": {
    "name": "ipython",
    "version": 3
   },
   "file_extension": ".py",
   "mimetype": "text/x-python",
   "name": "python",
   "nbconvert_exporter": "python",
   "pygments_lexer": "ipython3",
   "version": "3.9.0"
  }
 },
 "nbformat": 4,
 "nbformat_minor": 5
}

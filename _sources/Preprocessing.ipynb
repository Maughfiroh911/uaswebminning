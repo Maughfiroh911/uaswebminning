{
 "cells": [
  {
   "cell_type": "markdown",
   "id": "39316a57",
   "metadata": {},
   "source": [
    "## PREPROCESSING"
   ]
  },
  {
   "cell_type": "markdown",
   "id": "b1d2d3d0",
   "metadata": {},
   "source": [
    "### Menggunakan Data PTA Prodi Manajemen"
   ]
  },
  {
   "cell_type": "code",
   "execution_count": 2,
   "id": "3a294bc8",
   "metadata": {},
   "outputs": [
    {
     "name": "stdout",
     "output_type": "stream",
     "text": [
      "Requirement already satisfied: numpy in c:\\users\\hp\\appdata\\local\\programs\\python\\python39\\lib\\site-packages (1.22.3)\n"
     ]
    }
   ],
   "source": [
    "#library numpy berfungsi untuk melakukan operasi vektor dan matriks dengan mengolah array dan array multidimensi. \n",
    "#Library NumPy digunakan untuk kebutuhan dalam menganalisis data.\n",
    "!pip install numpy"
   ]
  },
  {
   "cell_type": "code",
   "execution_count": 3,
   "id": "8360c0fa",
   "metadata": {},
   "outputs": [
    {
     "name": "stdout",
     "output_type": "stream",
     "text": [
      "Requirement already satisfied: pandas in c:\\users\\hp\\appdata\\local\\programs\\python\\python39\\lib\\site-packages (1.4.1)\n",
      "Requirement already satisfied: python-dateutil>=2.8.1 in c:\\users\\hp\\appdata\\local\\programs\\python\\python39\\lib\\site-packages (from pandas) (2.8.2)\n",
      "Requirement already satisfied: numpy>=1.18.5 in c:\\users\\hp\\appdata\\local\\programs\\python\\python39\\lib\\site-packages (from pandas) (1.22.3)\n",
      "Requirement already satisfied: pytz>=2020.1 in c:\\users\\hp\\appdata\\local\\programs\\python\\python39\\lib\\site-packages (from pandas) (2021.3)\n",
      "Requirement already satisfied: six>=1.5 in c:\\users\\hp\\appdata\\local\\programs\\python\\python39\\lib\\site-packages (from python-dateutil>=2.8.1->pandas) (1.16.0)\n"
     ]
    }
   ],
   "source": [
    "#library pandas digunakan untuk mengelola data berbentuk tabel atau disebut dengan dataframe\n",
    "#Library yang digunakan untuk Penanganan, manipulasi, dan analisis data\n",
    "!pip install pandas"
   ]
  },
  {
   "cell_type": "code",
   "execution_count": 4,
   "id": "b81bceba",
   "metadata": {},
   "outputs": [
    {
     "name": "stdout",
     "output_type": "stream",
     "text": [
      "Requirement already satisfied: nltk in c:\\users\\hp\\appdata\\local\\programs\\python\\python39\\lib\\site-packages (3.7)\n",
      "Requirement already satisfied: click in c:\\users\\hp\\appdata\\local\\programs\\python\\python39\\lib\\site-packages (from nltk) (8.0.4)\n",
      "Requirement already satisfied: joblib in c:\\users\\hp\\appdata\\local\\programs\\python\\python39\\lib\\site-packages (from nltk) (1.1.0)\n",
      "Requirement already satisfied: regex>=2021.8.3 in c:\\users\\hp\\appdata\\local\\programs\\python\\python39\\lib\\site-packages (from nltk) (2022.3.15)\n",
      "Requirement already satisfied: tqdm in c:\\users\\hp\\appdata\\local\\programs\\python\\python39\\lib\\site-packages (from nltk) (4.63.0)\n",
      "Requirement already satisfied: colorama in c:\\users\\hp\\appdata\\local\\programs\\python\\python39\\lib\\site-packages (from click->nltk) (0.4.4)\n"
     ]
    }
   ],
   "source": [
    "#NLTK adalah singkatan dari Natural Language Tool Kit\n",
    "#library yang digunakan untuk membantu kita dalam bekerja dengan teks\n",
    "#Library ini memudahkan kita untuk memproses teks seperti melakukan classification, tokenization, stemming, tagging, parsing, dan semantic reasoning.\n",
    "!pip install nltk"
   ]
  },
  {
   "cell_type": "code",
   "execution_count": 5,
   "id": "afa87f72",
   "metadata": {},
   "outputs": [
    {
     "name": "stdout",
     "output_type": "stream",
     "text": [
      "Requirement already satisfied: Sastrawi in c:\\users\\hp\\appdata\\local\\programs\\python\\python39\\lib\\site-packages (1.0.1)\n"
     ]
    }
   ],
   "source": [
    "#Library sastrawi digunakan untuk melakukan tokenisasi (tokenize) dan membuang stopwords dari teks.\n",
    "!pip install Sastrawi"
   ]
  },
  {
   "cell_type": "code",
   "execution_count": 1,
   "id": "0ae0cb68",
   "metadata": {},
   "outputs": [],
   "source": [
    "import numpy as np\n",
    "import pandas as pd\n",
    "\n",
    "import nltk\n",
    "from nltk.corpus import stopwords\n",
    "from nltk.tokenize import word_tokenize\n",
    "\n",
    "from Sastrawi.Stemmer.StemmerFactory import StemmerFactory "
   ]
  },
  {
   "cell_type": "markdown",
   "id": "752f43b1",
   "metadata": {},
   "source": [
    "### Menampilkan dokumen  dari hasil Crawling"
   ]
  },
  {
   "cell_type": "code",
   "execution_count": 2,
   "id": "ab0f6a15",
   "metadata": {},
   "outputs": [
    {
     "data": {
      "text/html": [
       "<div>\n",
       "<style scoped>\n",
       "    .dataframe tbody tr th:only-of-type {\n",
       "        vertical-align: middle;\n",
       "    }\n",
       "\n",
       "    .dataframe tbody tr th {\n",
       "        vertical-align: top;\n",
       "    }\n",
       "\n",
       "    .dataframe thead th {\n",
       "        text-align: right;\n",
       "    }\n",
       "</style>\n",
       "<table border=\"1\" class=\"dataframe\">\n",
       "  <thead>\n",
       "    <tr style=\"text-align: right;\">\n",
       "      <th></th>\n",
       "      <th>judul</th>\n",
       "      <th>penulis</th>\n",
       "      <th>Dosbing 1</th>\n",
       "      <th>Dosbing 2</th>\n",
       "      <th>Abstrak</th>\n",
       "    </tr>\n",
       "  </thead>\n",
       "  <tbody>\n",
       "    <tr>\n",
       "      <th>0</th>\n",
       "      <td>PENGARUH KEPEMIMPINAN DAN KOMPENSASI TERHADAP ...</td>\n",
       "      <td>Hendri Wahyudi Prayitno</td>\n",
       "      <td>Dra. Hj. S Anugrahini Irawati, MM</td>\n",
       "      <td>Helmi Buyung Aulia,S,ST,SE,.MT</td>\n",
       "      <td>Penelitian ini menggunakan metode kuantitatif,...</td>\n",
       "    </tr>\n",
       "    <tr>\n",
       "      <th>1</th>\n",
       "      <td>PENGARUH TIPE KEPEMIMPINAN TERHADAP PRESTASI K...</td>\n",
       "      <td>Dharma Abidin Syah</td>\n",
       "      <td>Drs. Ec. Mudji Kuswinarno M,Si</td>\n",
       "      <td>Faidal SE, MM</td>\n",
       "      <td>\\tDharma Abidin Syah,Kesimpulan: (1) Terdapat ...</td>\n",
       "    </tr>\n",
       "    <tr>\n",
       "      <th>2</th>\n",
       "      <td>PENGARUH FAKTOR-FAKTOR PELATIHAN DAN PENGEMBAN...</td>\n",
       "      <td>SATIYAH</td>\n",
       "      <td>Dra. Hj. S. Anugrahini Irawati, MM</td>\n",
       "      <td>Helmi Buyung Aulia,S,ST.SE,M.MT</td>\n",
       "      <td>Satiyah, Pengaruh Faktor-faktor Pelatihan dan ...</td>\n",
       "    </tr>\n",
       "    <tr>\n",
       "      <th>3</th>\n",
       "      <td>ANALISIS PERSEPSI BRAND ASSOCIATION MENURUT PE...</td>\n",
       "      <td>Faishal</td>\n",
       "      <td>Nurita Andriani</td>\n",
       "      <td>Yustina Chrismardani</td>\n",
       "      <td>Tujuan penelitian ini adalah untuk mengetahui ...</td>\n",
       "    </tr>\n",
       "    <tr>\n",
       "      <th>4</th>\n",
       "      <td>PENGARUH KOMPETENSI DOSEN TERHADAP KINERJA DOS...</td>\n",
       "      <td>Aththaariq</td>\n",
       "      <td>Dr.RM Moch Wispandono,.S.E,.MS</td>\n",
       "      <td>Dr. Muhammad Alkirom Wildan,S.E.,M.Si.</td>\n",
       "      <td>Aththaariq, Pengaruh Kompetensi Dosen Terhadap...</td>\n",
       "    </tr>\n",
       "  </tbody>\n",
       "</table>\n",
       "</div>"
      ],
      "text/plain": [
       "                                               judul  \\\n",
       "0  PENGARUH KEPEMIMPINAN DAN KOMPENSASI TERHADAP ...   \n",
       "1  PENGARUH TIPE KEPEMIMPINAN TERHADAP PRESTASI K...   \n",
       "2  PENGARUH FAKTOR-FAKTOR PELATIHAN DAN PENGEMBAN...   \n",
       "3  ANALISIS PERSEPSI BRAND ASSOCIATION MENURUT PE...   \n",
       "4  PENGARUH KOMPETENSI DOSEN TERHADAP KINERJA DOS...   \n",
       "\n",
       "                    penulis                            Dosbing 1  \\\n",
       "0   Hendri Wahyudi Prayitno    Dra. Hj. S Anugrahini Irawati, MM   \n",
       "1        Dharma Abidin Syah       Drs. Ec. Mudji Kuswinarno M,Si   \n",
       "2                   SATIYAH   Dra. Hj. S. Anugrahini Irawati, MM   \n",
       "3                   Faishal                      Nurita Andriani   \n",
       "4                Aththaariq       Dr.RM Moch Wispandono,.S.E,.MS   \n",
       "\n",
       "                                Dosbing 2  \\\n",
       "0          Helmi Buyung Aulia,S,ST,SE,.MT   \n",
       "1                           Faidal SE, MM   \n",
       "2         Helmi Buyung Aulia,S,ST.SE,M.MT   \n",
       "3                    Yustina Chrismardani   \n",
       "4  Dr. Muhammad Alkirom Wildan,S.E.,M.Si.   \n",
       "\n",
       "                                             Abstrak  \n",
       "0  Penelitian ini menggunakan metode kuantitatif,...  \n",
       "1  \\tDharma Abidin Syah,Kesimpulan: (1) Terdapat ...  \n",
       "2  Satiyah, Pengaruh Faktor-faktor Pelatihan dan ...  \n",
       "3  Tujuan penelitian ini adalah untuk mengetahui ...  \n",
       "4  Aththaariq, Pengaruh Kompetensi Dosen Terhadap...  "
      ]
     },
     "execution_count": 2,
     "metadata": {},
     "output_type": "execute_result"
    }
   ],
   "source": [
    "df = pd.read_csv(\"data.csv\")\n",
    "df.head()"
   ]
  },
  {
   "cell_type": "markdown",
   "id": "a68cc1d1",
   "metadata": {},
   "source": [
    "## PREPROCESSING "
   ]
  },
  {
   "cell_type": "markdown",
   "id": "30019faa",
   "metadata": {},
   "source": [
    "Preprocessing merupakan proses awal yang akan mentransformasikan data masukan menjadi data dengan format yang sesuai dan siap untuk diproses (Setyohadi et al., 2017).  Tahapan dalam proses text preprocessing antara lain yaitu cleansing, tokenizing, filtering, stopword dan lain-lain. Penerapan tahap text preprocessing dapat berbeda-beda untuk setiap bahasa tergantung dengan kebutuhan, karena perbedaan dalam bahasa tentu memiliki arti yang berbeda untuk tiap katanya."
   ]
  },
  {
   "cell_type": "markdown",
   "id": "31329248",
   "metadata": {},
   "source": [
    "### Case Folding\n",
    "Case folding merupakan langkah dalam pengolahan data yang bertujuan untuk mengubah ataumenghilangkan semua huruf kapital pada dokumen menjadi huruf kecil"
   ]
  },
  {
   "cell_type": "code",
   "execution_count": 3,
   "id": "bc4434d0",
   "metadata": {},
   "outputs": [
    {
     "data": {
      "text/plain": [
       "0     penelitian ini menggunakan metode kuantitatif,...\n",
       "1     \\tdharma abidin syah,kesimpulan: (1) terdapat ...\n",
       "2     satiyah, pengaruh faktor-faktor pelatihan dan ...\n",
       "3     tujuan penelitian ini adalah untuk mengetahui ...\n",
       "4     aththaariq, pengaruh kompetensi dosen terhadap...\n",
       "5     tujuan penelitian ini adalah untuk : (1) menge...\n",
       "6     aplikasi nyata pemanfaatan teknologi informasi...\n",
       "7     tujuan penelitian ini adalah untuk mengidentif...\n",
       "8     hasil dari penelitian ini dari perhitungan cre...\n",
       "9     \\ttujuan penelitian ini adalah mendeskripsikan...\n",
       "10    penelitian ini mengungkapkan beberapa rumusan ...\n",
       "11    tujuan penelitian ini adalah untuk mengetahui ...\n",
       "12    tujuan penelitian ini adalah untuk mengetahui ...\n",
       "13    pln merupakan badan usaha milik negara yang be...\n",
       "14    tujuan penelitian ini adalah untuk mengidentif...\n",
       "15    tujuan penelitian ini adalah mengetahui pengar...\n",
       "16    penelitian ini bertujuan untuk mengukur pengar...\n",
       "17     \\ttujuan penelitian ini adalah untuk mengetah...\n",
       "18    penelitian ini bertujuan untuk meneliti apakah...\n",
       "19    bauran eceran merupakan salah satu langkah pem...\n",
       "20    penelitian ini bertujuan untuk mengukur efekti...\n",
       "21    pengumpulan data dalam  penelitian ini adalah ...\n",
       "22    penelitian ini bertujuan untuk mengetahui peng...\n",
       "23    munculnya asumsi bahwa lahirnya budaya mengemi...\n",
       "24    diana agustini dewi, 2013. “analisis kinerja k...\n",
       "25    pendekatan penelitian yang digunakan dalam pen...\n",
       "26    tujuan penelitian ini adalah untuk mengetahui ...\n",
       "27    tujuan dari penelitian ini adalah untuk menget...\n",
       "28    penelitian ini bertujuan untuk mengetahui peng...\n",
       "29    objek penelitian ini adalah pembelian produk x...\n",
       "30    intention of this research is to know influenc...\n",
       "31    tujuan penelitian ini adalah untuk mengetahui ...\n",
       "32    \\ttujuan dari penelitian ini adalah untuk meng...\n",
       "33    kenaikan harga yang terlalu tinggi, akan menye...\n",
       "34    suatu keputusan investasi selalu berhubungan d...\n",
       "35    penelitian ini bertujuan untuk mengetahui peng...\n",
       "36    tujuan penelitian ini adalah untuk mengidentif...\n",
       "37    atribut produk memberikan pandangan atau gamba...\n",
       "38    \\tnotebook merek acer merupakan notebook yang ...\n",
       "39    tujuan penelitian ini adalah untuk mengetahui ...\n",
       "40    tujuan penlitian ini adalah (1) untuk mengetah...\n",
       "41    tujuan penelitian ini adalah (1) untuk mengeta...\n",
       "42    tujuan penelitian ini adalah untuk menganalisi...\n",
       "43    internet merupakan suatu sistem informasi glob...\n",
       "44    tujuan penelitian ini adalah untuk mengetahui ...\n",
       "45    \\tkenaikan harga saham yang terlalu tinggi, ak...\n",
       "46    lembaga keuangan memperoleh pendapatan dari pi...\n",
       "47    \\ttujuan penelitian ini adalah untuk mengetahu...\n",
       "48    tujuan penelitian ini adalah (1) untuk mengeta...\n",
       "49    tujuan penelitian ini adalah untuk : (1) menge...\n",
       "50    tujuan penelitian ini adalah untuk mengidentif...\n",
       "51    \\tpenelitian ini bertujuan untuk mengetahui pe...\n",
       "52    tujuan penelitian ini adalah untuk mengetahui ...\n",
       "53    tujuan penelitian ini adalah (1) untuk mengeta...\n",
       "Name: abstrak_baru, dtype: object"
      ]
     },
     "execution_count": 3,
     "metadata": {},
     "output_type": "execute_result"
    }
   ],
   "source": [
    "data_abstrak = df['Abstrak']\n",
    "data_abstrak = data_abstrak.str.lower()\n",
    "df['abstrak_baru'] = data_abstrak\n",
    "df['abstrak_baru']"
   ]
  },
  {
   "cell_type": "markdown",
   "id": "c90f083b",
   "metadata": {},
   "source": [
    "### Menghilangkan Angka dan Remove Punctuation \n",
    "Remove Punctuation merupakan teknik penghilangan tanda baca yang digunakan dalam sebuah teks untuk membedakan antara kalimat dan bagian penyusunnya dan untukmemperjelas maknanya"
   ]
  },
  {
   "cell_type": "code",
   "execution_count": 4,
   "id": "a73e2133",
   "metadata": {},
   "outputs": [],
   "source": [
    "import re #library re (regular expression (regex)) dapat digunakan untuk menghapus karakter angka.\n",
    "import string #library String digunakan untuk memproses string Python standar\n",
    "\n",
    "def remove_number(text):\n",
    "    return  re.sub(r\"\\d+\", \"\", text)\n",
    "\n",
    "df['abstrak_baru'] = df['abstrak_baru'].apply(remove_number)\n",
    "\n",
    "#remove punctuation\n",
    "def remove_punctuation(text):\n",
    "    return text.translate(str.maketrans(\"\",\"\",string.punctuation))\n",
    "\n",
    "df['abstrak_baru'] = df['abstrak_baru'].apply(remove_punctuation)"
   ]
  },
  {
   "cell_type": "code",
   "execution_count": 5,
   "id": "575f27de",
   "metadata": {},
   "outputs": [
    {
     "data": {
      "text/plain": [
       "0     penelitian ini menggunakan metode kuantitatif ...\n",
       "1     \\tdharma abidin syahkesimpulan  terdapat penga...\n",
       "2     satiyah pengaruh faktorfaktor pelatihan dan pe...\n",
       "3     tujuan penelitian ini adalah untuk mengetahui ...\n",
       "4     aththaariq pengaruh kompetensi dosen terhadap ...\n",
       "5     tujuan penelitian ini adalah untuk   mengetahu...\n",
       "6     aplikasi nyata pemanfaatan teknologi informasi...\n",
       "7     tujuan penelitian ini adalah untuk mengidentif...\n",
       "8     hasil dari penelitian ini dari perhitungan cre...\n",
       "9     \\ttujuan penelitian ini adalah mendeskripsikan...\n",
       "10    penelitian ini mengungkapkan beberapa rumusan ...\n",
       "11    tujuan penelitian ini adalah untuk mengetahui ...\n",
       "12    tujuan penelitian ini adalah untuk mengetahui ...\n",
       "13    pln merupakan badan usaha milik negara yang be...\n",
       "14    tujuan penelitian ini adalah untuk mengidentif...\n",
       "15    tujuan penelitian ini adalah mengetahui pengar...\n",
       "16    penelitian ini bertujuan untuk mengukur pengar...\n",
       "17     \\ttujuan penelitian ini adalah untuk mengetah...\n",
       "18    penelitian ini bertujuan untuk meneliti apakah...\n",
       "19    bauran eceran merupakan salah satu langkah pem...\n",
       "20    penelitian ini bertujuan untuk mengukur efekti...\n",
       "21    pengumpulan data dalam  penelitian ini adalah ...\n",
       "22    penelitian ini bertujuan untuk mengetahui peng...\n",
       "23    munculnya asumsi bahwa lahirnya budaya mengemi...\n",
       "24    diana agustini dewi  “analisis kinerja keuanga...\n",
       "25    pendekatan penelitian yang digunakan dalam pen...\n",
       "26    tujuan penelitian ini adalah untuk mengetahui ...\n",
       "27    tujuan dari penelitian ini adalah untuk menget...\n",
       "28    penelitian ini bertujuan untuk mengetahui peng...\n",
       "29    objek penelitian ini adalah pembelian produk x...\n",
       "30    intention of this research is to know influenc...\n",
       "31    tujuan penelitian ini adalah untuk mengetahui ...\n",
       "32    \\ttujuan dari penelitian ini adalah untuk meng...\n",
       "33    kenaikan harga yang terlalu tinggi akan menyeb...\n",
       "34    suatu keputusan investasi selalu berhubungan d...\n",
       "35    penelitian ini bertujuan untuk mengetahui peng...\n",
       "36    tujuan penelitian ini adalah untuk mengidentif...\n",
       "37    atribut produk memberikan pandangan atau gamba...\n",
       "38    \\tnotebook merek acer merupakan notebook yang ...\n",
       "39    tujuan penelitian ini adalah untuk mengetahui ...\n",
       "40    tujuan penlitian ini adalah  untuk mengetahui ...\n",
       "41    tujuan penelitian ini adalah  untuk mengetahui...\n",
       "42    tujuan penelitian ini adalah untuk menganalisi...\n",
       "43    internet merupakan suatu sistem informasi glob...\n",
       "44    tujuan penelitian ini adalah untuk mengetahui ...\n",
       "45    \\tkenaikan harga saham yang terlalu tinggi aka...\n",
       "46    lembaga keuangan memperoleh pendapatan dari pi...\n",
       "47    \\ttujuan penelitian ini adalah untuk mengetahu...\n",
       "48    tujuan penelitian ini adalah  untuk mengetahui...\n",
       "49    tujuan penelitian ini adalah untuk   mengetahu...\n",
       "50    tujuan penelitian ini adalah untuk mengidentif...\n",
       "51    \\tpenelitian ini bertujuan untuk mengetahui pe...\n",
       "52    tujuan penelitian ini adalah untuk mengetahui ...\n",
       "53    tujuan penelitian ini adalah  untuk mengetahui...\n",
       "Name: abstrak_baru, dtype: object"
      ]
     },
     "execution_count": 5,
     "metadata": {},
     "output_type": "execute_result"
    }
   ],
   "source": [
    "df['abstrak_baru']"
   ]
  },
  {
   "cell_type": "markdown",
   "id": "25d7de3c",
   "metadata": {},
   "source": [
    "### Stopword "
   ]
  },
  {
   "cell_type": "markdown",
   "id": "33472f94",
   "metadata": {},
   "source": [
    "Stopword adalah stopwords merupakan kata yang diabaikan dalam pemrosesan dan biasanya disimpan di dalam stop lists. Stop list ini berisi daftar kata umum yang mempunyai fungsi tapi tidak mempunyai arti. Contoh stopword dalam bahasa Indonesia adalah “yang”, “dan”, “di”, “dari”, dll. "
   ]
  },
  {
   "cell_type": "code",
   "execution_count": 6,
   "id": "8f2c196b",
   "metadata": {},
   "outputs": [],
   "source": [
    "def stopping_word(contents):    \n",
    "    data_kata = []\n",
    "    stop_words = stopwords.words('english')\n",
    "    stop_words2 = stopwords.words('indonesian')\n",
    "    stop_words.extend(stop_words2)\n",
    "    jmlData = contents.shape \n",
    "    for i in range(jmlData[0]):\n",
    "        word_tokens = word_tokenize(contents[i])\n",
    "        # print(word_tokens)\n",
    "            \n",
    "        word_tokens_no_stopwords = [w for w in word_tokens if not w in stop_words]\n",
    "\n",
    "        special_char = \"+=`@_!#$%^&*()<>?/\\|}{~:;.[],1234567890‘’'\" + '\"“”●'\n",
    "        out_list = [''.join(x for x in string if not x in special_char) for string in word_tokens_no_stopwords]\n",
    "        # print('List after removal of special characters:', out_list)\n",
    "\n",
    "        while '' in out_list:\n",
    "            out_list.remove('')\n",
    "        data_kata.append(out_list)\n",
    "    return data_kata"
   ]
  },
  {
   "cell_type": "code",
   "execution_count": 7,
   "id": "d3de7600",
   "metadata": {},
   "outputs": [],
   "source": [
    "stop_kata = stopping_word(df['abstrak_baru'])\n",
    "df['stop_kata'] = stop_kata"
   ]
  },
  {
   "cell_type": "code",
   "execution_count": 8,
   "id": "7f03a67a",
   "metadata": {},
   "outputs": [
    {
     "data": {
      "text/plain": [
       "0     [penelitian, metode, kuantitatif, menekankan, ...\n",
       "1     [dharma, abidin, syahkesimpulan, pengaruh, sig...\n",
       "2     [satiyah, pengaruh, faktorfaktor, pelatihan, p...\n",
       "3     [tujuan, penelitian, persepsi, brand, associat...\n",
       "4     [aththaariq, pengaruh, kompetensi, dosen, kine...\n",
       "5     [tujuan, penelitian, pengaruh, perilaku, konsu...\n",
       "6     [aplikasi, nyata, pemanfaatan, teknologi, info...\n",
       "7     [tujuan, penelitian, mengidentifikasi, variabe...\n",
       "8     [hasil, penelitian, perhitungan, credit, risk,...\n",
       "9     [tujuan, penelitian, mendeskripsikan, inovasi,...\n",
       "10    [penelitian, rumusan, pelaporan, biaya, kualit...\n",
       "11    [tujuan, penelitian, pengaruh, variabel, curre...\n",
       "12    [tujuan, penelitian, pengaruh, variabel, retai...\n",
       "13    [pln, badan, usaha, milik, negara, bergerak, b...\n",
       "14    [tujuan, penelitian, mengidentifikasi, variabe...\n",
       "15    [tujuan, penelitian, pengaruh, celebrity, endo...\n",
       "16    [penelitian, bertujuan, mengukur, pengaruh, ha...\n",
       "17    [tujuan, penelitian, variabel, kompensasi, fin...\n",
       "18    [penelitian, bertujuan, meneliti, pendidikan, ...\n",
       "19    [bauran, eceran, salah, langkah, pemasaran, ke...\n",
       "20    [penelitian, bertujuan, mengukur, efektivitas,...\n",
       "21    [pengumpulan, data, penelitian, mengunakan, su...\n",
       "22    [penelitian, bertujuan, pengaruh, faktorfaktor...\n",
       "23    [munculnya, asumsi, lahirnya, budaya, mengemis...\n",
       "24    [diana, agustini, dewi, analisis, kinerja, keu...\n",
       "25    [pendekatan, penelitian, penelitian, pendekata...\n",
       "26    [tujuan, penelitian, pengaruh, variabel, relat...\n",
       "27    [tujuan, penelitian, pengaruh, variabel, self,...\n",
       "28    [penelitian, bertujuan, pengaruh, iklan, keput...\n",
       "29    [objek, penelitian, pembelian, produk, xl, kec...\n",
       "30    [intention, research, know, influence, locatio...\n",
       "31    [tujuan, penelitian, tingkat, kebangkrutan, pe...\n",
       "32    [tujuan, penelitian, pengaruh, bundling, strat...\n",
       "33    [kenaikan, harga, menyebabkan, permintaan, pem...\n",
       "34    [keputusan, investasi, berhubungan, keuntungan...\n",
       "35    [penelitian, bertujuan, pengaruh, rekrutmen, p...\n",
       "36    [tujuan, penelitian, mengidentifikasi, variabe...\n",
       "37    [atribut, produk, pandangan, gambaran, produk,...\n",
       "38    [notebook, merek, acer, notebook, ekuitas, mer...\n",
       "39    [tujuan, penelitian, pengaruh, variabel, kuali...\n",
       "40    [tujuan, penlitian, variabel, iklan, berdasark...\n",
       "41    [tujuan, penelitian, harga, kualitas, produk, ...\n",
       "42    [tujuan, penelitian, menganalisis, atribut, ku...\n",
       "43    [internet, sistem, informasi, global, berbasis...\n",
       "44    [tujuan, penelitian, pengaruh, variabel, perse...\n",
       "45    [kenaikan, harga, saham, menyebabkan, perminta...\n",
       "46    [lembaga, keuangan, memperoleh, pendapatan, pi...\n",
       "47    [tujuan, penelitian, pengaruh, strategi, promo...\n",
       "48    [tujuan, penelitian, pengaruh, atribut, produk...\n",
       "49    [tujuan, penelitian, pengaruh, perilaku, konsu...\n",
       "50    [tujuan, penelitian, mengidentifikasi, variabe...\n",
       "51    [penelitian, bertujuan, pengaruh, unsur, unsur...\n",
       "52    [tujuan, penelitian, pengaruh, bauran, pemasar...\n",
       "53    [tujuan, penelitian, pengaruh, pesan, iklan, t...\n",
       "Name: stop_kata, dtype: object"
      ]
     },
     "execution_count": 8,
     "metadata": {},
     "output_type": "execute_result"
    }
   ],
   "source": [
    "df['stop_kata']"
   ]
  }
 ],
 "metadata": {
  "kernelspec": {
   "display_name": "Python 3 (ipykernel)",
   "language": "python",
   "name": "python3"
  },
  "language_info": {
   "codemirror_mode": {
    "name": "ipython",
    "version": 3
   },
   "file_extension": ".py",
   "mimetype": "text/x-python",
   "name": "python",
   "nbconvert_exporter": "python",
   "pygments_lexer": "ipython3",
   "version": "3.9.0"
  }
 },
 "nbformat": 4,
 "nbformat_minor": 5
}
